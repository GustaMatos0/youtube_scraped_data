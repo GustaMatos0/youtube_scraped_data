{
 "cells": [
  {
   "cell_type": "code",
   "execution_count": 1,
   "metadata": {},
   "outputs": [],
   "source": [
    "from selenium import webdriver\n",
    "from selenium.webdriver.chrome.service import Service\n",
    "from webdriver_manager.chrome import ChromeDriverManager\n",
    "\n",
    "from selenium.webdriver.common.by import By\n",
    "\n",
    "import time\n",
    "\n",
    "driver = webdriver.Chrome(service=Service(ChromeDriverManager().install()))"
   ]
  },
  {
   "cell_type": "code",
   "execution_count": 35,
   "metadata": {},
   "outputs": [],
   "source": [
    "import pandas as pd"
   ]
  },
  {
   "cell_type": "code",
   "execution_count": 2,
   "metadata": {},
   "outputs": [],
   "source": [
    "def unpack(elements):\n",
    "    return [element.text for element in elements]\n",
    "\n",
    "def get_vids(channels):\n",
    "    if type(channels) is str:\n",
    "        channels = [channels]\n",
    "    title_list = []\n",
    "    link_list = []\n",
    "    options = webdriver.ChromeOptions()\n",
    "    options.add_argument(\"--start-maximized\")\n",
    "\n",
    "    for channel in channels:\n",
    "        driver = webdriver.Chrome(options=options)\n",
    "\n",
    "        ch_link = f\"{channel}/videos\"\n",
    "        driver.get(ch_link)\n",
    "\n",
    "        time.sleep(5)\n",
    "\n",
    "        WAIT_IN_SECONDS = 0.5\n",
    "        last_height = driver.execute_script(\"return document.documentElement.scrollHeight\")\n",
    "\n",
    "        time_count = 0\n",
    "\n",
    "        while time_count < 10:\n",
    "            # Scroll to the bottom of the page\n",
    "            driver.execute_script(\"window.scrollTo(0, arguments[0]);\", last_height)\n",
    "            # Wait for new videos to show up\n",
    "            time.sleep(WAIT_IN_SECONDS)\n",
    "            \n",
    "            # Calculate the new document height and compare it with the last height\n",
    "            new_height = driver.execute_script(\"return document.documentElement.scrollHeight\")\n",
    "            if new_height == last_height:\n",
    "                break\n",
    "            last_height = new_height\n",
    "\n",
    "            time_count += 0.5\n",
    "\n",
    "\n",
    "        titles = driver.find_elements(By.ID, \"video-title\")\n",
    "        title_list = title_list + unpack(titles)\n",
    "\n",
    "        links = driver.find_elements(By.ID, \"video-title-link\")\n",
    "        link_list = link_list + [link.get_attribute('href') for link in links]\n",
    "\n",
    "        driver.close()\n",
    "\n",
    "\n",
    "    return title_list, link_list"
   ]
  },
  {
   "cell_type": "code",
   "execution_count": 3,
   "metadata": {},
   "outputs": [],
   "source": [
    "titles, links = get_vids([\"https://www.youtube.com/@penguinz0\", \"https://www.youtube.com/@pewdiepie\"])"
   ]
  },
  {
   "cell_type": "markdown",
   "metadata": {},
   "source": []
  },
  {
   "cell_type": "code",
   "execution_count": 4,
   "metadata": {},
   "outputs": [
    {
     "data": {
      "text/plain": [
       "1256"
      ]
     },
     "execution_count": 4,
     "metadata": {},
     "output_type": "execute_result"
    }
   ],
   "source": [
    "len(links)"
   ]
  },
  {
   "cell_type": "code",
   "execution_count": 6,
   "metadata": {},
   "outputs": [],
   "source": [
    "youtube_links = [\"https://www.youtube.com/watch?v=37gNbXXzJcI\", \"https://www.youtube.com/watch?v=8R1_TqU68yo\", \n",
    "                 \"https://www.youtube.com/watch?v=7DKv5H5Frt0\", \"https://www.youtube.com/watch?v=yDp3cB5fHXQ\"\n",
    "                 \"https://www.youtube.com/watch?v=N61Ho-gVpnE\", \"https://www.youtube.com/watch?v=GuJ5UuknsHU\"]"
   ]
  },
  {
   "cell_type": "code",
   "execution_count": 7,
   "metadata": {},
   "outputs": [],
   "source": [
    "# Turn on VPN!\n",
    "\n",
    "video_links = []\n",
    "\n",
    "for video in youtube_links:\n",
    "\n",
    "    driver = webdriver.Chrome()\n",
    "    driver.get(video)\n",
    "\n",
    "    time.sleep(2)\n",
    "\n",
    "    video_elements = driver.find_elements(By.XPATH, '/html/body/ytd-app/div[1]/ytd-page-manager/ytd-watch-flexy/div[5]/div[1]/div//*[@id=\"dismissible\"]/div/div[1]/a')\n",
    "\n",
    "    video_links = video_links + [element.get_attribute(\"href\") for element in video_elements]"
   ]
  },
  {
   "cell_type": "code",
   "execution_count": 8,
   "metadata": {},
   "outputs": [],
   "source": [
    "link_list = list(set(video_links))"
   ]
  },
  {
   "cell_type": "code",
   "execution_count": 9,
   "metadata": {},
   "outputs": [
    {
     "data": {
      "text/plain": [
       "['https://www.youtube.com/watch?v=lvM8HPPbL1A',\n",
       " 'https://www.youtube.com/watch?v=ZpDXFsOCSCE',\n",
       " 'https://www.youtube.com/watch?v=c5slwMgrioE',\n",
       " 'https://www.youtube.com/watch?v=GM6GkY1Swqc',\n",
       " 'https://www.youtube.com/watch?v=nC7Kpykti0Y',\n",
       " 'https://www.youtube.com/watch?v=Nb9HlQ0E9bo',\n",
       " 'https://www.youtube.com/watch?v=tqaq6Xoic3Y',\n",
       " 'https://www.youtube.com/watch?v=VWTzmELv7N4',\n",
       " 'https://www.youtube.com/watch?v=gkvyYTSKTQY',\n",
       " 'https://www.youtube.com/watch?v=aoZydtpoa_c',\n",
       " 'https://www.youtube.com/watch?v=ASI2Nuy9R4o',\n",
       " 'https://www.youtube.com/watch?v=nYHEpSMtV74',\n",
       " 'https://www.youtube.com/watch?v=O1SqtBBGYZ8',\n",
       " 'https://www.youtube.com/watch?v=5nEqkAy2UZ8',\n",
       " 'https://www.youtube.com/watch?v=Px5fOalltXw',\n",
       " 'https://www.youtube.com/watch?v=ZelEvsZAapw',\n",
       " 'https://www.youtube.com/watch?v=pyyIa956po8',\n",
       " 'https://www.youtube.com/watch?v=SBXpLXERdBI',\n",
       " 'https://www.youtube.com/watch?v=wZbFyfOqIiE',\n",
       " 'https://www.youtube.com/watch?v=8dwocAz1A7M',\n",
       " 'https://www.youtube.com/watch?v=AAGIi62-sAU',\n",
       " 'https://www.youtube.com/watch?v=HChYXA05qMk',\n",
       " 'https://www.youtube.com/watch?v=HRi1Ee2iP0A',\n",
       " 'https://www.youtube.com/watch?v=GQAvce3MA44',\n",
       " 'https://www.youtube.com/watch?v=sWartg-GwpM',\n",
       " 'https://www.youtube.com/watch?v=HNqruWIOgjw',\n",
       " 'https://www.youtube.com/watch?v=uzI44Bt3kaE',\n",
       " 'https://www.youtube.com/watch?v=5Z1MVyExZuY',\n",
       " 'https://www.youtube.com/watch?v=YttLB5x3Uh8',\n",
       " 'https://www.youtube.com/watch?v=7DKv5H5Frt0',\n",
       " 'https://www.youtube.com/watch?v=z-uOvB72RGw',\n",
       " 'https://www.youtube.com/watch?v=GuJ5UuknsHU',\n",
       " 'https://www.youtube.com/watch?v=UWDiVPnS1tg',\n",
       " 'https://www.youtube.com/watch?v=RX5Hp4CG_M4',\n",
       " 'https://www.youtube.com/watch?v=hnRkYvZXogA',\n",
       " 'https://www.youtube.com/watch?v=uCd4uWyqxTI',\n",
       " 'https://www.youtube.com/watch?v=ZLbC6n1F9Gw',\n",
       " 'https://www.youtube.com/watch?v=6MmYDbvC7vk',\n",
       " 'https://www.youtube.com/watch?v=XADXHxksY3w',\n",
       " 'https://www.youtube.com/watch?v=GQAvce3MA44',\n",
       " 'https://www.youtube.com/watch?v=HChYXA05qMk',\n",
       " 'https://www.youtube.com/watch?v=B9PboTYmuQQ',\n",
       " 'https://www.youtube.com/watch?v=Ji94tMVjNm8',\n",
       " 'https://www.youtube.com/watch?v=jPhJbKBuNnA',\n",
       " 'https://www.youtube.com/watch?v=szz2MqbSiFo',\n",
       " 'https://www.youtube.com/watch?v=VcLEEADb334',\n",
       " 'https://www.youtube.com/watch?v=8R1_TqU68yo',\n",
       " 'https://www.youtube.com/watch?v=NYj3DnI81AQ',\n",
       " 'https://www.youtube.com/watch?v=g0UQgrFNExc',\n",
       " 'https://www.youtube.com/watch?v=J_n1FZaKzF8',\n",
       " 'https://www.youtube.com/watch?v=ICJVyhfXnB0',\n",
       " 'https://www.youtube.com/watch?v=JR3hzUtJKYA',\n",
       " 'https://www.youtube.com/watch?v=LfK2u4-SMQk',\n",
       " 'https://www.youtube.com/watch?v=zqmOSMAtadc',\n",
       " 'https://www.youtube.com/watch?v=TI0TfaIpr9s',\n",
       " 'https://www.youtube.com/watch?v=HRYS5VWXZts',\n",
       " 'https://www.youtube.com/watch?v=mScpHTIi-kM',\n",
       " 'https://www.youtube.com/watch?v=yzytLBon-HY',\n",
       " 'https://www.youtube.com/watch?v=hECaXfk2Wo4',\n",
       " 'https://www.youtube.com/watch?v=0twDETh6QaI',\n",
       " 'https://www.youtube.com/watch?v=8BIcAZxFfrc',\n",
       " 'https://www.youtube.com/watch?v=LkoGBOs5ecM',\n",
       " 'https://www.youtube.com/watch?v=ZLE7p7jb9pY',\n",
       " 'https://www.youtube.com/watch?v=Qe5WT22-AO8',\n",
       " 'https://www.youtube.com/watch?v=AGjxX4gvaqk',\n",
       " 'https://www.youtube.com/watch?v=4TA2AIuAuW8',\n",
       " 'https://www.youtube.com/watch?v=SRTfcMeqhig',\n",
       " 'https://www.youtube.com/watch?v=9yjZpBq1XBE',\n",
       " 'https://www.youtube.com/watch?v=jbZo4x0NbbI',\n",
       " 'https://www.youtube.com/watch?v=JsNm2YLrk30',\n",
       " 'https://www.youtube.com/watch?v=mLJ1gyIzg78',\n",
       " 'https://www.youtube.com/watch?v=ANuxOmACFQ4',\n",
       " 'https://www.youtube.com/watch?v=-iCIZQX9i1A',\n",
       " 'https://www.youtube.com/watch?v=D6OT77T7YlE',\n",
       " 'https://www.youtube.com/watch?v=xZwFxWb0y7w',\n",
       " 'https://www.youtube.com/watch?v=Umjv8AEWaPg',\n",
       " 'https://www.youtube.com/watch?v=RLqXkYrdmjY',\n",
       " 'https://www.youtube.com/watch?v=Cr_rb_pitHk',\n",
       " 'https://www.youtube.com/watch?v=yAAacHEWk04',\n",
       " 'https://www.youtube.com/watch?v=qnrY2oDBIYM',\n",
       " 'https://www.youtube.com/watch?v=Hr_Reo8GRu0',\n",
       " 'https://www.youtube.com/watch?v=sU851gBd7WQ',\n",
       " 'https://www.youtube.com/watch?v=mScpHTIi-kM',\n",
       " 'https://www.youtube.com/watch?v=sWartg-GwpM',\n",
       " 'https://www.youtube.com/watch?v=m4Fi_a9QATM',\n",
       " 'https://www.youtube.com/watch?v=yzytLBon-HY',\n",
       " 'https://www.youtube.com/watch?v=5SSUbxpCVZs',\n",
       " 'https://www.youtube.com/watch?v=KC0GtU_Dtdo',\n",
       " 'https://www.youtube.com/watch?v=ocToiAT4gS0',\n",
       " 'https://www.youtube.com/watch?v=yk_u9fbkoKM',\n",
       " 'https://www.youtube.com/watch?v=Z-062PWH0vo',\n",
       " 'https://www.youtube.com/watch?v=ZMQbHMgK2rw',\n",
       " 'https://www.youtube.com/watch?v=dS_8CZy8DbI',\n",
       " 'https://www.youtube.com/watch?v=C_dNt4UEVZQ',\n",
       " 'https://www.youtube.com/watch?v=GM6GkY1Swqc',\n",
       " 'https://www.youtube.com/watch?v=d1HbFN7Ww3M',\n",
       " 'https://www.youtube.com/watch?v=d6Pcp944sRI',\n",
       " 'https://www.youtube.com/watch?v=slvH7xZ_msc']"
      ]
     },
     "execution_count": 9,
     "metadata": {},
     "output_type": "execute_result"
    }
   ],
   "source": [
    "video_links"
   ]
  },
  {
   "cell_type": "code",
   "execution_count": 11,
   "metadata": {},
   "outputs": [],
   "source": [
    "channel_links = []"
   ]
  },
  {
   "cell_type": "code",
   "execution_count": 26,
   "metadata": {},
   "outputs": [
    {
     "name": "stderr",
     "output_type": "stream",
     "text": [
      "  2%|▏         | 2/92 [00:13<10:22,  6.92s/it]\n"
     ]
    },
    {
     "ename": "NoSuchElementException",
     "evalue": "Message: no such element: Unable to locate element: {\"method\":\"xpath\",\"selector\":\"/html/body/ytd-app/div[1]/ytd-page-manager/ytd-watch-flexy/div[5]/div[1]/div/div[2]/ytd-watch-metadata/div/div[2]/div[1]/ytd-video-owner-renderer/div[1]/ytd-channel-name/div/div/yt-formatted-string/a\"}\n  (Session info: chrome=120.0.6099.224); For documentation on this error, please visit: https://www.selenium.dev/documentation/webdriver/troubleshooting/errors#no-such-element-exception\nStacktrace:\n#0 0x5604af69df83 <unknown>\n#1 0x5604af356cf7 <unknown>\n#2 0x5604af3a699e <unknown>\n#3 0x5604af3a6aa1 <unknown>\n#4 0x5604af3f1d64 <unknown>\n#5 0x5604af3d00dd <unknown>\n#6 0x5604af3ef006 <unknown>\n#7 0x5604af3cfe53 <unknown>\n#8 0x5604af397dd4 <unknown>\n#9 0x5604af3991de <unknown>\n#10 0x5604af662531 <unknown>\n#11 0x5604af666455 <unknown>\n#12 0x5604af64ef55 <unknown>\n#13 0x5604af6670ef <unknown>\n#14 0x5604af63299f <unknown>\n#15 0x5604af68b008 <unknown>\n#16 0x5604af68b1d7 <unknown>\n#17 0x5604af69d124 <unknown>\n#18 0x7f116da43ac3 <unknown>\n",
     "output_type": "error",
     "traceback": [
      "\u001b[0;31m---------------------------------------------------------------------------\u001b[0m",
      "\u001b[0;31mNoSuchElementException\u001b[0m                    Traceback (most recent call last)",
      "\u001b[1;32m/home/gustamatos/Desktop/youtube_scraped_data/youtube_scrap.ipynb Cell 11\u001b[0m line \u001b[0;36m7\n\u001b[1;32m      <a href='vscode-notebook-cell:/home/gustamatos/Desktop/youtube_scraped_data/youtube_scrap.ipynb#X13sZmlsZQ%3D%3D?line=2'>3</a>\u001b[0m \u001b[39mfor\u001b[39;00m video \u001b[39min\u001b[39;00m tqdm(link_list):\n\u001b[1;32m      <a href='vscode-notebook-cell:/home/gustamatos/Desktop/youtube_scraped_data/youtube_scrap.ipynb#X13sZmlsZQ%3D%3D?line=4'>5</a>\u001b[0m     driver\u001b[39m.\u001b[39mget(video)\n\u001b[0;32m----> <a href='vscode-notebook-cell:/home/gustamatos/Desktop/youtube_scraped_data/youtube_scrap.ipynb#X13sZmlsZQ%3D%3D?line=6'>7</a>\u001b[0m     channel_elements \u001b[39m=\u001b[39m driver\u001b[39m.\u001b[39mfind_element(By\u001b[39m.\u001b[39mXPATH, \u001b[39m'\u001b[39m\u001b[39m/html/body/ytd-app/div[1]/ytd-page-manager/ytd-watch-flexy/div[5]/div[1]/div/div[2]/ytd-watch-metadata/div/div[2]/div[1]/ytd-video-owner-renderer/div[1]/ytd-channel-name/div/div/yt-formatted-string/a\u001b[39m\u001b[39m'\u001b[39m)\n\u001b[1;32m      <a href='vscode-notebook-cell:/home/gustamatos/Desktop/youtube_scraped_data/youtube_scrap.ipynb#X13sZmlsZQ%3D%3D?line=8'>9</a>\u001b[0m     channel_links \u001b[39m=\u001b[39m channel_links \u001b[39m+\u001b[39m [channel_elements\u001b[39m.\u001b[39mget_attribute(\u001b[39m\"\u001b[39m\u001b[39mhref\u001b[39m\u001b[39m\"\u001b[39m)]\n\u001b[1;32m     <a href='vscode-notebook-cell:/home/gustamatos/Desktop/youtube_scraped_data/youtube_scrap.ipynb#X13sZmlsZQ%3D%3D?line=10'>11</a>\u001b[0m channel_links \u001b[39m=\u001b[39m \u001b[39mlist\u001b[39m(\u001b[39mset\u001b[39m(channel_links))\n",
      "File \u001b[0;32m~/anaconda3/lib/python3.11/site-packages/selenium/webdriver/remote/webdriver.py:742\u001b[0m, in \u001b[0;36mWebDriver.find_element\u001b[0;34m(self, by, value)\u001b[0m\n\u001b[1;32m    739\u001b[0m     by \u001b[39m=\u001b[39m By\u001b[39m.\u001b[39mCSS_SELECTOR\n\u001b[1;32m    740\u001b[0m     value \u001b[39m=\u001b[39m \u001b[39mf\u001b[39m\u001b[39m'\u001b[39m\u001b[39m[name=\u001b[39m\u001b[39m\"\u001b[39m\u001b[39m{\u001b[39;00mvalue\u001b[39m}\u001b[39;00m\u001b[39m\"\u001b[39m\u001b[39m]\u001b[39m\u001b[39m'\u001b[39m\n\u001b[0;32m--> 742\u001b[0m \u001b[39mreturn\u001b[39;00m \u001b[39mself\u001b[39m\u001b[39m.\u001b[39mexecute(Command\u001b[39m.\u001b[39mFIND_ELEMENT, {\u001b[39m\"\u001b[39m\u001b[39musing\u001b[39m\u001b[39m\"\u001b[39m: by, \u001b[39m\"\u001b[39m\u001b[39mvalue\u001b[39m\u001b[39m\"\u001b[39m: value})[\u001b[39m\"\u001b[39m\u001b[39mvalue\u001b[39m\u001b[39m\"\u001b[39m]\n",
      "File \u001b[0;32m~/anaconda3/lib/python3.11/site-packages/selenium/webdriver/remote/webdriver.py:348\u001b[0m, in \u001b[0;36mWebDriver.execute\u001b[0;34m(self, driver_command, params)\u001b[0m\n\u001b[1;32m    346\u001b[0m response \u001b[39m=\u001b[39m \u001b[39mself\u001b[39m\u001b[39m.\u001b[39mcommand_executor\u001b[39m.\u001b[39mexecute(driver_command, params)\n\u001b[1;32m    347\u001b[0m \u001b[39mif\u001b[39;00m response:\n\u001b[0;32m--> 348\u001b[0m     \u001b[39mself\u001b[39m\u001b[39m.\u001b[39merror_handler\u001b[39m.\u001b[39mcheck_response(response)\n\u001b[1;32m    349\u001b[0m     response[\u001b[39m\"\u001b[39m\u001b[39mvalue\u001b[39m\u001b[39m\"\u001b[39m] \u001b[39m=\u001b[39m \u001b[39mself\u001b[39m\u001b[39m.\u001b[39m_unwrap_value(response\u001b[39m.\u001b[39mget(\u001b[39m\"\u001b[39m\u001b[39mvalue\u001b[39m\u001b[39m\"\u001b[39m, \u001b[39mNone\u001b[39;00m))\n\u001b[1;32m    350\u001b[0m     \u001b[39mreturn\u001b[39;00m response\n",
      "File \u001b[0;32m~/anaconda3/lib/python3.11/site-packages/selenium/webdriver/remote/errorhandler.py:229\u001b[0m, in \u001b[0;36mErrorHandler.check_response\u001b[0;34m(self, response)\u001b[0m\n\u001b[1;32m    227\u001b[0m         alert_text \u001b[39m=\u001b[39m value[\u001b[39m\"\u001b[39m\u001b[39malert\u001b[39m\u001b[39m\"\u001b[39m]\u001b[39m.\u001b[39mget(\u001b[39m\"\u001b[39m\u001b[39mtext\u001b[39m\u001b[39m\"\u001b[39m)\n\u001b[1;32m    228\u001b[0m     \u001b[39mraise\u001b[39;00m exception_class(message, screen, stacktrace, alert_text)  \u001b[39m# type: ignore[call-arg]  # mypy is not smart enough here\u001b[39;00m\n\u001b[0;32m--> 229\u001b[0m \u001b[39mraise\u001b[39;00m exception_class(message, screen, stacktrace)\n",
      "\u001b[0;31mNoSuchElementException\u001b[0m: Message: no such element: Unable to locate element: {\"method\":\"xpath\",\"selector\":\"/html/body/ytd-app/div[1]/ytd-page-manager/ytd-watch-flexy/div[5]/div[1]/div/div[2]/ytd-watch-metadata/div/div[2]/div[1]/ytd-video-owner-renderer/div[1]/ytd-channel-name/div/div/yt-formatted-string/a\"}\n  (Session info: chrome=120.0.6099.224); For documentation on this error, please visit: https://www.selenium.dev/documentation/webdriver/troubleshooting/errors#no-such-element-exception\nStacktrace:\n#0 0x5604af69df83 <unknown>\n#1 0x5604af356cf7 <unknown>\n#2 0x5604af3a699e <unknown>\n#3 0x5604af3a6aa1 <unknown>\n#4 0x5604af3f1d64 <unknown>\n#5 0x5604af3d00dd <unknown>\n#6 0x5604af3ef006 <unknown>\n#7 0x5604af3cfe53 <unknown>\n#8 0x5604af397dd4 <unknown>\n#9 0x5604af3991de <unknown>\n#10 0x5604af662531 <unknown>\n#11 0x5604af666455 <unknown>\n#12 0x5604af64ef55 <unknown>\n#13 0x5604af6670ef <unknown>\n#14 0x5604af63299f <unknown>\n#15 0x5604af68b008 <unknown>\n#16 0x5604af68b1d7 <unknown>\n#17 0x5604af69d124 <unknown>\n#18 0x7f116da43ac3 <unknown>\n"
     ]
    }
   ],
   "source": [
    "driver = webdriver.Chrome()\n",
    "\n",
    "for video in tqdm(link_list):\n",
    "\n",
    "    driver.get(video)\n",
    "\n",
    "    channel_elements = driver.find_element(By.XPATH, '/html/body/ytd-app/div[1]/ytd-page-manager/ytd-watch-flexy/div[5]/div[1]/div/div[2]/ytd-watch-metadata/div/div[2]/div[1]/ytd-video-owner-renderer/div[1]/ytd-channel-name/div/div/yt-formatted-string/a')\n",
    "\n",
    "    channel_links = channel_links + [channel_elements.get_attribute(\"href\")]\n",
    "\n",
    "channel_links = list(set(channel_links))"
   ]
  },
  {
   "cell_type": "code",
   "execution_count": 14,
   "metadata": {},
   "outputs": [
    {
     "data": {
      "text/plain": [
       "60"
      ]
     },
     "execution_count": 14,
     "metadata": {},
     "output_type": "execute_result"
    }
   ],
   "source": [
    "channel_links"
   ]
  },
  {
   "cell_type": "code",
   "execution_count": 15,
   "metadata": {},
   "outputs": [],
   "source": [
    "titles, links = get_vids(channel_links)"
   ]
  },
  {
   "cell_type": "code",
   "execution_count": 17,
   "metadata": {},
   "outputs": [
    {
     "data": {
      "text/plain": [
       "17853"
      ]
     },
     "execution_count": 17,
     "metadata": {},
     "output_type": "execute_result"
    }
   ],
   "source": [
    "len(links)"
   ]
  },
  {
   "cell_type": "code",
   "execution_count": 18,
   "metadata": {},
   "outputs": [],
   "source": [
    "with open(\"links.txt\", \"w\") as output:\n",
    "    output.write(str(links))"
   ]
  },
  {
   "cell_type": "code",
   "execution_count": 28,
   "metadata": {},
   "outputs": [],
   "source": [
    "from tqdm import tqdm\n",
    "import random"
   ]
  },
  {
   "cell_type": "code",
   "execution_count": 45,
   "metadata": {},
   "outputs": [],
   "source": [
    "l = []"
   ]
  },
  {
   "cell_type": "code",
   "execution_count": 89,
   "metadata": {},
   "outputs": [
    {
     "name": "stderr",
     "output_type": "stream",
     "text": [
      "100%|██████████| 17853/17853 [22:45:32<00:00,  4.59s/it]   \n"
     ]
    }
   ],
   "source": [
    "\n",
    "video_links = []\n",
    "l = []\n",
    "\n",
    "options = webdriver.ChromeOptions()\n",
    "options.add_argument(\"--headless\")\n",
    "driver = webdriver.Chrome(options=options)\n",
    "random.shuffle(links)\n",
    "\n",
    "for video in tqdm(links):\n",
    "    try:\n",
    "        driver.get(video)\n",
    "\n",
    "        time.sleep(1)\n",
    "\n",
    "        title_element = driver.find_element(By.XPATH, '/html/head/meta[4]')\n",
    "        description_element = driver.find_element(By.XPATH,'/html/head/meta[5]')\n",
    "        keywords_element = driver.find_element(By.XPATH,'/html/head/meta[6]')\n",
    "        channel_element = driver.find_element(By.XPATH, '/html/body/ytd-app/div[1]/ytd-page-manager/ytd-watch-flexy/div[5]/div[1]/div/div[2]/ytd-watch-metadata/div/div[2]/div[1]/ytd-video-owner-renderer/div[1]/ytd-channel-name/div/div/yt-formatted-string/a')\n",
    "        date_element = driver.find_element(By.XPATH, '/html/body/div[1]/meta[12]')\n",
    "        len_element = driver.find_element(By.XPATH, '/html/body/div[1]/meta[5]')\n",
    "        views_element = driver.find_element(By.XPATH, '/html/body/ytd-app/div[1]/ytd-page-manager/ytd-watch-flexy/div[5]/div[1]/div/div[2]/ytd-watch-metadata/div/div[4]/div[1]/div/ytd-watch-info-text/div/yt-formatted-string/span[1]')\n",
    "        \n",
    "        title = title_element.get_attribute(\"content\")\n",
    "        description = description_element.get_attribute(\"content\")\n",
    "        keywords = keywords_element.get_attribute(\"content\")\n",
    "        channel_links = channel_element.get_attribute(\"href\")\n",
    "        date = date_element.get_attribute(\"content\")\n",
    "        length = len_element.get_attribute(\"content\")\n",
    "        views = views_element.text[:-6]\n",
    "\n",
    "        l = l + [[title, description, keywords, channel_links, video, date, length, views]]\n",
    "    except:\n",
    "        driver = webdriver.Chrome(options=options)\n",
    "\n",
    "df = pd.DataFrame(l)"
   ]
  },
  {
   "cell_type": "code",
   "execution_count": 90,
   "metadata": {},
   "outputs": [
    {
     "name": "stdout",
     "output_type": "stream",
     "text": [
      "17012\n"
     ]
    }
   ],
   "source": [
    "df.columns = [\"title\", \"description\", \"keywords\", \"channel_links\", \"video\", \"date\", \"length\", \"views\"]\n",
    "\n",
    "print(len(df))\n",
    "\n",
    "df.to_csv(\"Videos_DF1.csv\")"
   ]
  },
  {
   "cell_type": "code",
   "execution_count": null,
   "metadata": {},
   "outputs": [],
   "source": []
  },
  {
   "cell_type": "code",
   "execution_count": null,
   "metadata": {},
   "outputs": [],
   "source": []
  }
 ],
 "metadata": {
  "kernelspec": {
   "display_name": "base",
   "language": "python",
   "name": "python3"
  },
  "language_info": {
   "codemirror_mode": {
    "name": "ipython",
    "version": 3
   },
   "file_extension": ".py",
   "mimetype": "text/x-python",
   "name": "python",
   "nbconvert_exporter": "python",
   "pygments_lexer": "ipython3",
   "version": "3.11.4"
  }
 },
 "nbformat": 4,
 "nbformat_minor": 2
}
